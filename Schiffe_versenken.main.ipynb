{
 "cells": [
  {
   "cell_type": "markdown",
   "metadata": {},
   "source": []
  },
  {
   "cell_type": "code",
   "execution_count": null,
   "metadata": {},
   "outputs": [],
   "source": [
    "\n"
   ]
  },
  {
   "cell_type": "code",
   "execution_count": 1,
   "metadata": {},
   "outputs": [],
   "source": [
    "import numpy as np"
   ]
  },
  {
   "cell_type": "code",
   "execution_count": null,
   "metadata": {},
   "outputs": [],
   "source": [
    "\n"
   ]
  },
  {
   "cell_type": "code",
   "execution_count": 2,
   "metadata": {},
   "outputs": [],
   "source": [
    "import numpy as np\n",
    "import pandas as pd"
   ]
  },
  {
   "cell_type": "markdown",
   "metadata": {},
   "source": [
    "###Struktur des Projekts:###\n",
    "\n",
    "1.variables.py:\n",
    "Definiert Spielfeldgrößen, Schiffe und andere Konstanten.\n",
    "\n",
    "2.clases.py:\n",
    "Enthält die Klasse Tablero, die das Spielfeld und die Schiffe eines Spielers verwaltet.\n",
    "\n",
    "3.funciones.py:\n",
    "Enthält Funktionen wie Schiffsplatzierung, Trefferprüfung und Spielzug-Logik.\n",
    "\n",
    "4.main.py:\n",
    "Hauptlogik, die das Spiel steuert und die Spieleraktionen iterativ verarbeitet."
   ]
  },
  {
   "cell_type": "code",
   "execution_count": 3,
   "metadata": {},
   "outputs": [
    {
     "name": "stdout",
     "output_type": "stream",
     "text": [
      "['clases.py', 'funciones.py', 'Schiffe_versenken.main.ipynb', 'variables.py', '__pycache__']\n"
     ]
    }
   ],
   "source": [
    "import os\n",
    "print(os.listdir())\n"
   ]
  },
  {
   "cell_type": "code",
   "execution_count": 4,
   "metadata": {},
   "outputs": [],
   "source": [
    "from variables import GRID_SIZE, SHIPS\n",
    "from clases import Tablero\n",
    "from funciones import schuss, ist_verloren\n"
   ]
  },
  {
   "cell_type": "code",
   "execution_count": 5,
   "metadata": {},
   "outputs": [],
   "source": [
    "#1.variables.py\n",
    "# Konfiguration des Spiels\n",
    "GRID_SIZE = 10\n",
    "SHIPS = [\n",
    "    (1, 4),  # 4 Schiffe mit Länge 1\n",
    "    (2, 3),  # 3 Schiffe mit Länge 2\n",
    "    (3, 2),  # 2 Schiffe mit Länge 3\n",
    "    (4, 1)   # 1 Schiff mit Länge 4\n",
    "]\n"
   ]
  },
  {
   "cell_type": "code",
   "execution_count": 6,
   "metadata": {},
   "outputs": [],
   "source": [
    "#clases.py\n",
    "import numpy as np\n",
    "import random\n",
    "\n",
    "class Tablero:\n",
    "    def __init__(self, jugador_id, dimension):\n",
    "        self.jugador_id = jugador_id\n",
    "        self.dimension = dimension\n",
    "        self.tablero = np.full((dimension, dimension), \"~\")  # \"~\" für Wasser\n",
    "        self.impactos = np.full((dimension, dimension), \"~\")  # \"X\" für Treffer, \"O\" für Fehlschuss\n",
    "        self.barcos = []\n",
    "\n",
    "    def platzieren_schiffe(self, schiffe):\n",
    "        for länge, anzahl in schiffe:\n",
    "            for _ in range(anzahl):\n",
    "                while True:\n",
    "                    x = random.randint(0, self.dimension - 1)\n",
    "                    y = random.randint(0, self.dimension - 1)\n",
    "                    richtung = random.choice([\"H\", \"V\"])  # Horizontal oder Vertikal\n",
    "                    if self.kann_schiff_platzieren(x, y, länge, richtung):\n",
    "                        self.setze_schiff(x, y, länge, richtung)\n",
    "                        break\n",
    "\n",
    "    def kann_schiff_platzieren(self, x, y, länge, richtung):\n",
    "        if richtung == \"H\" and y + länge <= self.dimension:\n",
    "            return all(self.tablero[x, y + i] == \"~\" for i in range(länge))\n",
    "        if richtung == \"V\" and x + länge <= self.dimension:\n",
    "            return all(self.tablero[x + i, y] == \"~\" for i in range(länge))\n",
    "        return False\n",
    "\n",
    "    def setze_schiff(self, x, y, länge, richtung):\n",
    "        if richtung == \"H\":\n",
    "            for i in range(länge):\n",
    "                self.tablero[x, y + i] = \"S\"\n",
    "        else:\n",
    "            for i in range(länge):\n",
    "                self.tablero[x + i, y] = \"S\"\n",
    "        self.barcos.append((x, y, länge, richtung))\n",
    "\n",
    "    def anzeigen(self, verborgen=False):\n",
    "        for i in range(self.dimension):\n",
    "            for j in range(self.dimension):\n",
    "                if verborgen and self.tablero[i, j] == \"S\":\n",
    "                    print(\"~\", end=\" \")\n",
    "                else:\n",
    "                    print(self.tablero[i, j], end=\" \")\n",
    "            print()\n"
   ]
  },
  {
   "cell_type": "code",
   "execution_count": 7,
   "metadata": {},
   "outputs": [],
   "source": [
    "#funciones.py\n",
    "import numpy as np\n",
    "def schuss(tablero, x, y):\n",
    "    if tablero.tablero[x, y] == \"S\":\n",
    "        print(\"Treffer! 🚢\")\n",
    "        tablero.tablero[x, y] = \"X\"\n",
    "        tablero.impactos[x, y] = \"X\"\n",
    "        return True\n",
    "    elif tablero.tablero[x, y] == \"~\":\n",
    "        print(\"Daneben! 🌊\")\n",
    "        tablero.tablero[x, y] = \"O\"\n",
    "        tablero.impactos[x, y] = \"O\"\n",
    "        return False\n",
    "    else:\n",
    "        print(\"Hier wurde bereits geschossen.\")\n",
    "        return False\n",
    "\n",
    "def ist_verloren(tablero):\n",
    "    return not np.any(tablero.tablero == \"S\")\n"
   ]
  },
  {
   "cell_type": "code",
   "execution_count": null,
   "metadata": {},
   "outputs": [],
   "source": []
  },
  {
   "cell_type": "code",
   "execution_count": 8,
   "metadata": {},
   "outputs": [
    {
     "name": "stdout",
     "output_type": "stream",
     "text": [
      "Automatischer Testmodus gestartet...\n",
      "\n",
      "Dein Spielfeld:\n",
      "~ ~ ~ ~ ~ ~ ~ ~ ~ ~ \n",
      "~ ~ ~ ~ ~ ~ ~ ~ ~ ~ \n",
      "~ ~ ~ ~ ~ ~ ~ ~ ~ ~ \n",
      "~ ~ ~ ~ ~ ~ ~ ~ ~ ~ \n",
      "~ ~ ~ ~ ~ ~ ~ ~ ~ ~ \n",
      "~ ~ ~ ~ ~ ~ ~ ~ ~ ~ \n",
      "~ ~ ~ ~ ~ ~ ~ ~ ~ ~ \n",
      "~ ~ ~ ~ ~ ~ ~ ~ ~ ~ \n",
      "~ ~ ~ ~ ~ ~ ~ ~ ~ ~ \n",
      "~ ~ ~ ~ ~ ~ ~ ~ ~ ~ \n",
      "\n",
      "Computerfeld (verdeckt):\n",
      "~ ~ ~ ~ ~ ~ ~ ~ ~ ~ \n",
      "~ ~ ~ ~ ~ ~ ~ ~ ~ ~ \n",
      "~ ~ ~ ~ ~ ~ ~ ~ ~ ~ \n",
      "~ ~ ~ ~ ~ ~ ~ ~ ~ ~ \n",
      "~ ~ ~ ~ ~ ~ ~ ~ ~ ~ \n",
      "~ ~ ~ ~ ~ ~ ~ ~ ~ ~ \n",
      "~ ~ ~ ~ ~ ~ ~ ~ ~ ~ \n",
      "~ ~ ~ ~ ~ ~ ~ ~ ~ ~ \n",
      "~ ~ ~ ~ ~ ~ ~ ~ ~ ~ \n",
      "~ ~ ~ ~ ~ ~ ~ ~ ~ ~ \n",
      "\n",
      "Spieler schießt auf (0, 4)\n",
      "Daneben! 🌊\n",
      "Der Spieler hat im Testmodus gewonnen!\n"
     ]
    }
   ],
   "source": [
    "import numpy as np\n",
    "from variables import GRID_SIZE, SHIPS\n",
    "from clases import Tablero\n",
    "from funciones import schuss, ist_verloren\n",
    "import random\n",
    "\n",
    "def automatischer_test():\n",
    "    print(\"Automatischer Testmodus gestartet...\")\n",
    "    \n",
    "    # Spieler und Computer-Tabellen erstellen\n",
    "    spieler_tablero = Tablero(\"Spieler\", GRID_SIZE)\n",
    "    computer_tablero = Tablero(\"Computer\", GRID_SIZE)\n",
    "\n",
    "    # Schiffe platzieren\n",
    "    spieler_tablero.platzieren_schiffe(SHIPS)\n",
    "    computer_tablero.platzieren_schiffe(SHIPS)\n",
    "\n",
    "    # Spiel starten\n",
    "    while True:\n",
    "        print(\"\\nDein Spielfeld:\")\n",
    "        spieler_tablero.anzeigen()\n",
    "        \n",
    "        print(\"\\nComputerfeld (verdeckt):\")\n",
    "        computer_tablero.anzeigen(verborgen=True)\n",
    "\n",
    "        # Automatische Eingaben (Spielerzug)\n",
    "        x = random.randint(0, GRID_SIZE - 1)\n",
    "        y = random.randint(0, GRID_SIZE - 1)\n",
    "        print(f\"\\nSpieler schießt auf ({x}, {y})\")\n",
    "        schuss(computer_tablero, x, y)\n",
    "        \n",
    "        if ist_verloren(computer_tablero):\n",
    "            print(\"Der Spieler hat im Testmodus gewonnen!\")\n",
    "            break\n",
    "\n",
    "        # Computerzug\n",
    "        print(\"\\nZug des Computers...\")\n",
    "        while True:\n",
    "            x, y = random.randint(0, GRID_SIZE - 1), random.randint(0, GRID_SIZE - 1)\n",
    "            print(f\"Computer schießt auf ({x}, {y})\")\n",
    "            if schuss(spieler_tablero, x, y):\n",
    "                break\n",
    "        \n",
    "        if ist_verloren(spieler_tablero):\n",
    "            print(\"Der Computer hat im Testmodus gewonnen!\")\n",
    "            break\n",
    "\n",
    "if __name__ == \"__main__\":\n",
    "    automatischer_test()\n"
   ]
  },
  {
   "cell_type": "code",
   "execution_count": 9,
   "metadata": {},
   "outputs": [],
   "source": [
    "# import numpy as np\n",
    "\n",
    "\n",
    "# ##4.main.py\n",
    "# from variables import GRID_SIZE, SHIPS\n",
    "# from clases import Tablero\n",
    "# from funciones import schuss, ist_verloren\n",
    "\n",
    "# def main():\n",
    "#     print(\"Willkommen zu Schiffe Versenken!\")\n",
    "    \n",
    "#     # Spieler und Computer-Tabellen erstellen\n",
    "#     spieler_tablero = Tablero(\"Spieler\", GRID_SIZE)\n",
    "#     computer_tablero = Tablero(\"Computer\", GRID_SIZE)\n",
    "\n",
    "#     # Schiffe platzieren\n",
    "#     spieler_tablero.platzieren_schiffe(SHIPS)\n",
    "#     computer_tablero.platzieren_schiffe(SHIPS)\n",
    "\n",
    "#     # Spiel starten\n",
    "#     while True:\n",
    "#         print(\"\\nDein Spielfeld:\")\n",
    "#         spieler_tablero.anzeigen()\n",
    "        \n",
    "#         print(\"\\nComputerfeld (verdeckt):\")\n",
    "#         computer_tablero.anzeigen(verborgen=True)\n",
    "\n",
    "#         # Spielerzug\n",
    "#         print(\"\\nDein Zug:\")\n",
    "#         x = int(input(\"Zeile eingeben: \"))\n",
    "#         y = int(input(\"Spalte eingeben: \"))\n",
    "#         schuss(computer_tablero, x, y)\n",
    "        \n",
    "#         if ist_verloren(computer_tablero):\n",
    "#             print(\"Herzlichen Glückwunsch! Du hast gewonnen!\")\n",
    "#             break\n",
    "\n",
    "#         # Computerzug\n",
    "#         print(\"\\nZug des Computers...\")\n",
    "#         while True:\n",
    "#             x, y = random.randint(0, GRID_SIZE - 1), random.randint(0, GRID_SIZE - 1)\n",
    "#             if schuss(spieler_tablero, x, y):\n",
    "#                 break\n",
    "        \n",
    "#         if ist_verloren(spieler_tablero):\n",
    "#             print(\"Der Computer hat gewonnen. Versuch es noch einmal!\")\n",
    "#             break\n",
    "\n",
    "# if __name__ == \"__main__\":\n",
    "#     main()\n"
   ]
  },
  {
   "cell_type": "code",
   "execution_count": 10,
   "metadata": {},
   "outputs": [
    {
     "name": "stdout",
     "output_type": "stream",
     "text": [
      "['clases.py', 'funciones.py', 'Schiffe_versenken.main.ipynb', 'variables.py', '__pycache__']\n"
     ]
    }
   ],
   "source": [
    "import os\n",
    "print(os.listdir())\n"
   ]
  },
  {
   "cell_type": "code",
   "execution_count": 11,
   "metadata": {},
   "outputs": [
    {
     "name": "stdout",
     "output_type": "stream",
     "text": [
      "['clases.py', 'funciones.py', 'Schiffe_versenken.main.ipynb', 'variables.py', '__pycache__']\n"
     ]
    }
   ],
   "source": [
    "import os\n",
    "os.chdir(\"C:/Users/kthfu/OneDrive/Escritorio/Schiffe Versenken\")  # Ändere diesen Pfad entsprechend\n",
    "print(os.listdir())  # Überprüfe, ob deine Dateien jetzt angezeigt werden\n",
    "\n"
   ]
  },
  {
   "cell_type": "code",
   "execution_count": 12,
   "metadata": {},
   "outputs": [],
   "source": [
    "from variables import GRID_SIZE, SHIPS\n",
    "from clases import Tablero\n",
    "from funciones import schuss, ist_verloren\n"
   ]
  },
  {
   "cell_type": "code",
   "execution_count": 13,
   "metadata": {},
   "outputs": [
    {
     "name": "stdout",
     "output_type": "stream",
     "text": [
      "Aktuelles Arbeitsverzeichnis: C:\\Users\\kthfu\\OneDrive\\Escritorio\\Schiffe Versenken\n"
     ]
    }
   ],
   "source": [
    "import os\n",
    "print(\"Aktuelles Arbeitsverzeichnis:\", os.getcwd())\n"
   ]
  },
  {
   "cell_type": "code",
   "execution_count": 14,
   "metadata": {},
   "outputs": [],
   "source": [
    "import sys\n",
    "sys.path.append(\"C:/Users/kthfu/OneDrive/Escritorio/Schiffe Versenken\")  # Passe den Pfad an\n"
   ]
  },
  {
   "cell_type": "code",
   "execution_count": 15,
   "metadata": {},
   "outputs": [
    {
     "data": {
      "text/plain": [
       "['clases.py',\n",
       " 'funciones.py',\n",
       " 'Schiffe_versenken.main.ipynb',\n",
       " 'variables.py',\n",
       " '__pycache__']"
      ]
     },
     "execution_count": 15,
     "metadata": {},
     "output_type": "execute_result"
    }
   ],
   "source": [
    "os.listdir()"
   ]
  },
  {
   "cell_type": "code",
   "execution_count": 16,
   "metadata": {},
   "outputs": [],
   "source": [
    "from variables import GRID_SIZE, SHIPS\n",
    "from clases import Tablero\n",
    "from funciones import schuss, ist_verloren\n"
   ]
  },
  {
   "cell_type": "code",
   "execution_count": 17,
   "metadata": {},
   "outputs": [
    {
     "name": "stdout",
     "output_type": "stream",
     "text": [
      "Neues Arbeitsverzeichnis: C:\\Users\\kthfu\\OneDrive\\Escritorio\\Schiffe Versenken\n"
     ]
    }
   ],
   "source": [
    "import os\n",
    "os.chdir(\"C:/Users/kthfu/OneDrive/Escritorio/Schiffe Versenken\")\n",
    "print(\"Neues Arbeitsverzeichnis:\", os.getcwd())\n"
   ]
  },
  {
   "cell_type": "code",
   "execution_count": 18,
   "metadata": {},
   "outputs": [],
   "source": [
    "import sys\n",
    "sys.path.append(\"C:/Users/kthfu/OneDrive/Escritorio/Schiffe Versenken\")\n",
    "from variables import GRID_SIZE, SHIPS\n",
    "from clases import Tablero\n",
    "from funciones import schuss, ist_verloren\n"
   ]
  },
  {
   "cell_type": "code",
   "execution_count": 19,
   "metadata": {},
   "outputs": [
    {
     "data": {
      "text/plain": [
       "['clases.py',\n",
       " 'funciones.py',\n",
       " 'Schiffe_versenken.main.ipynb',\n",
       " 'variables.py',\n",
       " '__pycache__']"
      ]
     },
     "execution_count": 19,
     "metadata": {},
     "output_type": "execute_result"
    }
   ],
   "source": [
    "os.listdir()"
   ]
  },
  {
   "cell_type": "code",
   "execution_count": 20,
   "metadata": {},
   "outputs": [
    {
     "name": "stdout",
     "output_type": "stream",
     "text": [
      "['clases.py', 'funciones.py', 'Schiffe_versenken.main.ipynb', 'variables.py', '__pycache__']\n"
     ]
    }
   ],
   "source": [
    "import os\n",
    "print(os.listdir())\n"
   ]
  },
  {
   "cell_type": "code",
   "execution_count": 21,
   "metadata": {},
   "outputs": [],
   "source": [
    "import sys\n",
    "sys.path.append(r\"C:\\Users\\kthfu\\OneDrive\\Escritorio\\Schiffe Versenken\")\n",
    "from variables import GRID_SIZE, SHIPS\n",
    "from clases import Tablero\n",
    "from funciones import schuss, ist_verloren\n"
   ]
  },
  {
   "cell_type": "code",
   "execution_count": null,
   "metadata": {},
   "outputs": [],
   "source": []
  }
 ],
 "metadata": {
  "kernelspec": {
   "display_name": "Python 3",
   "language": "python",
   "name": "python3"
  },
  "language_info": {
   "codemirror_mode": {
    "name": "ipython",
    "version": 3
   },
   "file_extension": ".py",
   "mimetype": "text/x-python",
   "name": "python",
   "nbconvert_exporter": "python",
   "pygments_lexer": "ipython3",
   "version": "3.13.0"
  }
 },
 "nbformat": 4,
 "nbformat_minor": 2
}
